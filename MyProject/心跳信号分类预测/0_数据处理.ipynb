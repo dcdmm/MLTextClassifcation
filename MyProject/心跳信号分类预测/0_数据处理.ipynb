{
 "cells": [
  {
   "cell_type": "code",
   "execution_count": 1,
   "metadata": {
    "collapsed": true
   },
   "outputs": [],
   "source": [
    "import pandas as pd\n",
    "import numpy as np"
   ]
  },
  {
   "cell_type": "code",
   "execution_count": 2,
   "outputs": [],
   "source": [
    "# 读取数据集\n",
    "train_data = pd.read_csv('original_data/train.csv') # 训练原始数据集\n",
    "test_data = pd.read_csv('original_data/testA.csv') # 测试原始数据集"
   ],
   "metadata": {
    "collapsed": false,
    "pycharm": {
     "name": "#%%\n"
    }
   }
  },
  {
   "cell_type": "code",
   "execution_count": 3,
   "outputs": [
    {
     "data": {
      "text/plain": "   id                                  heartbeat_signals  label\n0   0  0.9912297987616655,0.9435330436439665,0.764677...    0.0\n1   1  0.9714822034884503,0.9289687459588268,0.572932...    0.0\n2   2  1.0,0.9591487564065292,0.7013782792997189,0.23...    2.0\n3   3  0.9757952826275774,0.9340884687738161,0.659636...    0.0\n4   4  0.0,0.055816398940721094,0.26129357194994196,0...    2.0",
      "text/html": "<div>\n<style scoped>\n    .dataframe tbody tr th:only-of-type {\n        vertical-align: middle;\n    }\n\n    .dataframe tbody tr th {\n        vertical-align: top;\n    }\n\n    .dataframe thead th {\n        text-align: right;\n    }\n</style>\n<table border=\"1\" class=\"dataframe\">\n  <thead>\n    <tr style=\"text-align: right;\">\n      <th></th>\n      <th>id</th>\n      <th>heartbeat_signals</th>\n      <th>label</th>\n    </tr>\n  </thead>\n  <tbody>\n    <tr>\n      <th>0</th>\n      <td>0</td>\n      <td>0.9912297987616655,0.9435330436439665,0.764677...</td>\n      <td>0.0</td>\n    </tr>\n    <tr>\n      <th>1</th>\n      <td>1</td>\n      <td>0.9714822034884503,0.9289687459588268,0.572932...</td>\n      <td>0.0</td>\n    </tr>\n    <tr>\n      <th>2</th>\n      <td>2</td>\n      <td>1.0,0.9591487564065292,0.7013782792997189,0.23...</td>\n      <td>2.0</td>\n    </tr>\n    <tr>\n      <th>3</th>\n      <td>3</td>\n      <td>0.9757952826275774,0.9340884687738161,0.659636...</td>\n      <td>0.0</td>\n    </tr>\n    <tr>\n      <th>4</th>\n      <td>4</td>\n      <td>0.0,0.055816398940721094,0.26129357194994196,0...</td>\n      <td>2.0</td>\n    </tr>\n  </tbody>\n</table>\n</div>"
     },
     "execution_count": 3,
     "metadata": {},
     "output_type": "execute_result"
    }
   ],
   "source": [
    "train_data.head()"
   ],
   "metadata": {
    "collapsed": false,
    "pycharm": {
     "name": "#%%\n"
    }
   }
  },
  {
   "cell_type": "code",
   "execution_count": 4,
   "outputs": [
    {
     "data": {
      "text/plain": "(100000, 3)"
     },
     "execution_count": 4,
     "metadata": {},
     "output_type": "execute_result"
    }
   ],
   "source": [
    "train_data.shape"
   ],
   "metadata": {
    "collapsed": false,
    "pycharm": {
     "name": "#%%\n"
    }
   }
  },
  {
   "cell_type": "code",
   "execution_count": 5,
   "outputs": [
    {
     "data": {
      "text/plain": "       id                                  heartbeat_signals\n0  100000  0.9915713654170097,1.0,0.6318163407681274,0.13...\n1  100001  0.6075533139615096,0.5417083883163654,0.340694...\n2  100002  0.9752726292239277,0.6710965234906665,0.686758...\n3  100003  0.9956348033996116,0.9170249621481004,0.521096...\n4  100004  1.0,0.8879490481178918,0.745564725322326,0.531...",
      "text/html": "<div>\n<style scoped>\n    .dataframe tbody tr th:only-of-type {\n        vertical-align: middle;\n    }\n\n    .dataframe tbody tr th {\n        vertical-align: top;\n    }\n\n    .dataframe thead th {\n        text-align: right;\n    }\n</style>\n<table border=\"1\" class=\"dataframe\">\n  <thead>\n    <tr style=\"text-align: right;\">\n      <th></th>\n      <th>id</th>\n      <th>heartbeat_signals</th>\n    </tr>\n  </thead>\n  <tbody>\n    <tr>\n      <th>0</th>\n      <td>100000</td>\n      <td>0.9915713654170097,1.0,0.6318163407681274,0.13...</td>\n    </tr>\n    <tr>\n      <th>1</th>\n      <td>100001</td>\n      <td>0.6075533139615096,0.5417083883163654,0.340694...</td>\n    </tr>\n    <tr>\n      <th>2</th>\n      <td>100002</td>\n      <td>0.9752726292239277,0.6710965234906665,0.686758...</td>\n    </tr>\n    <tr>\n      <th>3</th>\n      <td>100003</td>\n      <td>0.9956348033996116,0.9170249621481004,0.521096...</td>\n    </tr>\n    <tr>\n      <th>4</th>\n      <td>100004</td>\n      <td>1.0,0.8879490481178918,0.745564725322326,0.531...</td>\n    </tr>\n  </tbody>\n</table>\n</div>"
     },
     "execution_count": 5,
     "metadata": {},
     "output_type": "execute_result"
    }
   ],
   "source": [
    "test_data.head()"
   ],
   "metadata": {
    "collapsed": false,
    "pycharm": {
     "name": "#%%\n"
    }
   }
  },
  {
   "cell_type": "code",
   "execution_count": 6,
   "outputs": [
    {
     "data": {
      "text/plain": "(20000, 2)"
     },
     "execution_count": 6,
     "metadata": {},
     "output_type": "execute_result"
    }
   ],
   "source": [
    "test_data.shape"
   ],
   "metadata": {
    "collapsed": false,
    "pycharm": {
     "name": "#%%\n"
    }
   }
  },
  {
   "cell_type": "code",
   "execution_count": 7,
   "outputs": [],
   "source": [
    "train_list = []\n",
    "\n",
    "for items in train_data.values:\n",
    "    # 认为id该特征为无效特征\n",
    "    train_list.append([float(i) for i in items[1].split(',')] + [items[2]]) # 根据逗号进行分割\n",
    "\n",
    "train = pd.DataFrame(np.array(train_list))\n",
    "train.columns = ['s_'+str(i) for i in range(len(train_list[0])-1)] + ['label']\n",
    "\n",
    "test_list = []\n",
    "for items in test_data.values:\n",
    "    test_list.append([float(i) for i in items[1].split(',')])\n",
    "\n",
    "test = pd.DataFrame(np.array(test_list))\n",
    "test.columns = ['s_'+str(i) for i in range(len(test_list[0]))]"
   ],
   "metadata": {
    "collapsed": false,
    "pycharm": {
     "name": "#%%\n"
    }
   }
  },
  {
   "cell_type": "code",
   "execution_count": 8,
   "outputs": [
    {
     "data": {
      "text/plain": "        s_0       s_1       s_2       s_3       s_4       s_5       s_6  \\\n0  0.991230  0.943533  0.764677  0.618571  0.379632  0.190822  0.040237   \n1  0.971482  0.928969  0.572933  0.178457  0.122962  0.132360  0.094392   \n2  1.000000  0.959149  0.701378  0.231778  0.000000  0.080698  0.128376   \n3  0.975795  0.934088  0.659637  0.249921  0.237116  0.281445  0.249921   \n4  0.000000  0.055816  0.261294  0.359847  0.433143  0.453698  0.499004   \n\n        s_7       s_8       s_9  ...  s_196  s_197  s_198  s_199  s_200  \\\n0  0.025995  0.031709  0.065524  ...    0.0    0.0    0.0    0.0    0.0   \n1  0.089575  0.030481  0.040499  ...    0.0    0.0    0.0    0.0    0.0   \n2  0.187448  0.280826  0.328261  ...    0.0    0.0    0.0    0.0    0.0   \n3  0.249921  0.241397  0.230670  ...    0.0    0.0    0.0    0.0    0.0   \n4  0.542796  0.616904  0.676696  ...    0.0    0.0    0.0    0.0    0.0   \n\n   s_201  s_202  s_203  s_204  label  \n0    0.0    0.0    0.0    0.0    0.0  \n1    0.0    0.0    0.0    0.0    0.0  \n2    0.0    0.0    0.0    0.0    2.0  \n3    0.0    0.0    0.0    0.0    0.0  \n4    0.0    0.0    0.0    0.0    2.0  \n\n[5 rows x 206 columns]",
      "text/html": "<div>\n<style scoped>\n    .dataframe tbody tr th:only-of-type {\n        vertical-align: middle;\n    }\n\n    .dataframe tbody tr th {\n        vertical-align: top;\n    }\n\n    .dataframe thead th {\n        text-align: right;\n    }\n</style>\n<table border=\"1\" class=\"dataframe\">\n  <thead>\n    <tr style=\"text-align: right;\">\n      <th></th>\n      <th>s_0</th>\n      <th>s_1</th>\n      <th>s_2</th>\n      <th>s_3</th>\n      <th>s_4</th>\n      <th>s_5</th>\n      <th>s_6</th>\n      <th>s_7</th>\n      <th>s_8</th>\n      <th>s_9</th>\n      <th>...</th>\n      <th>s_196</th>\n      <th>s_197</th>\n      <th>s_198</th>\n      <th>s_199</th>\n      <th>s_200</th>\n      <th>s_201</th>\n      <th>s_202</th>\n      <th>s_203</th>\n      <th>s_204</th>\n      <th>label</th>\n    </tr>\n  </thead>\n  <tbody>\n    <tr>\n      <th>0</th>\n      <td>0.991230</td>\n      <td>0.943533</td>\n      <td>0.764677</td>\n      <td>0.618571</td>\n      <td>0.379632</td>\n      <td>0.190822</td>\n      <td>0.040237</td>\n      <td>0.025995</td>\n      <td>0.031709</td>\n      <td>0.065524</td>\n      <td>...</td>\n      <td>0.0</td>\n      <td>0.0</td>\n      <td>0.0</td>\n      <td>0.0</td>\n      <td>0.0</td>\n      <td>0.0</td>\n      <td>0.0</td>\n      <td>0.0</td>\n      <td>0.0</td>\n      <td>0.0</td>\n    </tr>\n    <tr>\n      <th>1</th>\n      <td>0.971482</td>\n      <td>0.928969</td>\n      <td>0.572933</td>\n      <td>0.178457</td>\n      <td>0.122962</td>\n      <td>0.132360</td>\n      <td>0.094392</td>\n      <td>0.089575</td>\n      <td>0.030481</td>\n      <td>0.040499</td>\n      <td>...</td>\n      <td>0.0</td>\n      <td>0.0</td>\n      <td>0.0</td>\n      <td>0.0</td>\n      <td>0.0</td>\n      <td>0.0</td>\n      <td>0.0</td>\n      <td>0.0</td>\n      <td>0.0</td>\n      <td>0.0</td>\n    </tr>\n    <tr>\n      <th>2</th>\n      <td>1.000000</td>\n      <td>0.959149</td>\n      <td>0.701378</td>\n      <td>0.231778</td>\n      <td>0.000000</td>\n      <td>0.080698</td>\n      <td>0.128376</td>\n      <td>0.187448</td>\n      <td>0.280826</td>\n      <td>0.328261</td>\n      <td>...</td>\n      <td>0.0</td>\n      <td>0.0</td>\n      <td>0.0</td>\n      <td>0.0</td>\n      <td>0.0</td>\n      <td>0.0</td>\n      <td>0.0</td>\n      <td>0.0</td>\n      <td>0.0</td>\n      <td>2.0</td>\n    </tr>\n    <tr>\n      <th>3</th>\n      <td>0.975795</td>\n      <td>0.934088</td>\n      <td>0.659637</td>\n      <td>0.249921</td>\n      <td>0.237116</td>\n      <td>0.281445</td>\n      <td>0.249921</td>\n      <td>0.249921</td>\n      <td>0.241397</td>\n      <td>0.230670</td>\n      <td>...</td>\n      <td>0.0</td>\n      <td>0.0</td>\n      <td>0.0</td>\n      <td>0.0</td>\n      <td>0.0</td>\n      <td>0.0</td>\n      <td>0.0</td>\n      <td>0.0</td>\n      <td>0.0</td>\n      <td>0.0</td>\n    </tr>\n    <tr>\n      <th>4</th>\n      <td>0.000000</td>\n      <td>0.055816</td>\n      <td>0.261294</td>\n      <td>0.359847</td>\n      <td>0.433143</td>\n      <td>0.453698</td>\n      <td>0.499004</td>\n      <td>0.542796</td>\n      <td>0.616904</td>\n      <td>0.676696</td>\n      <td>...</td>\n      <td>0.0</td>\n      <td>0.0</td>\n      <td>0.0</td>\n      <td>0.0</td>\n      <td>0.0</td>\n      <td>0.0</td>\n      <td>0.0</td>\n      <td>0.0</td>\n      <td>0.0</td>\n      <td>2.0</td>\n    </tr>\n  </tbody>\n</table>\n<p>5 rows × 206 columns</p>\n</div>"
     },
     "execution_count": 8,
     "metadata": {},
     "output_type": "execute_result"
    }
   ],
   "source": [
    "train.head()"
   ],
   "metadata": {
    "collapsed": false,
    "pycharm": {
     "name": "#%%\n"
    }
   }
  },
  {
   "cell_type": "code",
   "execution_count": 9,
   "outputs": [],
   "source": [
    "# 处理后的数据的保存\n",
    "train.to_csv('data_0/train.csv', index=False)\n",
    "test.to_csv('data_0/test.csv', index=False)"
   ],
   "metadata": {
    "collapsed": false,
    "pycharm": {
     "name": "#%%\n"
    }
   }
  }
 ],
 "metadata": {
  "kernelspec": {
   "display_name": "Python 3",
   "language": "python",
   "name": "python3"
  },
  "language_info": {
   "codemirror_mode": {
    "name": "ipython",
    "version": 2
   },
   "file_extension": ".py",
   "mimetype": "text/x-python",
   "name": "python",
   "nbconvert_exporter": "python",
   "pygments_lexer": "ipython2",
   "version": "2.7.6"
  }
 },
 "nbformat": 4,
 "nbformat_minor": 0
}