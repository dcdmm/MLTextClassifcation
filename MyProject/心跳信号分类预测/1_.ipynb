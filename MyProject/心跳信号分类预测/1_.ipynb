{
 "cells": [
  {
   "cell_type": "code",
   "execution_count": 1,
   "metadata": {
    "collapsed": true
   },
   "outputs": [],
   "source": [
    "import pandas as pd"
   ]
  },
  {
   "cell_type": "code",
   "execution_count": 2,
   "outputs": [
    {
     "output_type": "execute_result",
     "data": {
      "text/plain": [
       "        s_0       s_1       s_2       s_3       s_4       s_5       s_6  \\\n",
       "0  0.991230  0.943533  0.764677  0.618571  0.379632  0.190822  0.040237   \n",
       "1  0.971482  0.928969  0.572933  0.178457  0.122962  0.132360  0.094392   \n",
       "2  1.000000  0.959149  0.701378  0.231778  0.000000  0.080698  0.128376   \n",
       "3  0.975795  0.934088  0.659637  0.249921  0.237116  0.281445  0.249921   \n",
       "4  0.000000  0.055816  0.261294  0.359847  0.433143  0.453698  0.499004   \n",
       "\n",
       "        s_7       s_8       s_9  ...  s_196  s_197  s_198  s_199  s_200  \\\n",
       "0  0.025995  0.031709  0.065524  ...    0.0    0.0    0.0    0.0    0.0   \n",
       "1  0.089575  0.030481  0.040499  ...    0.0    0.0    0.0    0.0    0.0   \n",
       "2  0.187448  0.280826  0.328261  ...    0.0    0.0    0.0    0.0    0.0   \n",
       "3  0.249921  0.241397  0.230670  ...    0.0    0.0    0.0    0.0    0.0   \n",
       "4  0.542796  0.616904  0.676696  ...    0.0    0.0    0.0    0.0    0.0   \n",
       "\n",
       "   s_201  s_202  s_203  s_204  label  \n",
       "0    0.0    0.0    0.0    0.0    0.0  \n",
       "1    0.0    0.0    0.0    0.0    0.0  \n",
       "2    0.0    0.0    0.0    0.0    2.0  \n",
       "3    0.0    0.0    0.0    0.0    0.0  \n",
       "4    0.0    0.0    0.0    0.0    2.0  \n",
       "\n",
       "[5 rows x 206 columns]"
      ],
      "text/html": "<div>\n<style scoped>\n    .dataframe tbody tr th:only-of-type {\n        vertical-align: middle;\n    }\n\n    .dataframe tbody tr th {\n        vertical-align: top;\n    }\n\n    .dataframe thead th {\n        text-align: right;\n    }\n</style>\n<table border=\"1\" class=\"dataframe\">\n  <thead>\n    <tr style=\"text-align: right;\">\n      <th></th>\n      <th>s_0</th>\n      <th>s_1</th>\n      <th>s_2</th>\n      <th>s_3</th>\n      <th>s_4</th>\n      <th>s_5</th>\n      <th>s_6</th>\n      <th>s_7</th>\n      <th>s_8</th>\n      <th>s_9</th>\n      <th>...</th>\n      <th>s_196</th>\n      <th>s_197</th>\n      <th>s_198</th>\n      <th>s_199</th>\n      <th>s_200</th>\n      <th>s_201</th>\n      <th>s_202</th>\n      <th>s_203</th>\n      <th>s_204</th>\n      <th>label</th>\n    </tr>\n  </thead>\n  <tbody>\n    <tr>\n      <th>0</th>\n      <td>0.991230</td>\n      <td>0.943533</td>\n      <td>0.764677</td>\n      <td>0.618571</td>\n      <td>0.379632</td>\n      <td>0.190822</td>\n      <td>0.040237</td>\n      <td>0.025995</td>\n      <td>0.031709</td>\n      <td>0.065524</td>\n      <td>...</td>\n      <td>0.0</td>\n      <td>0.0</td>\n      <td>0.0</td>\n      <td>0.0</td>\n      <td>0.0</td>\n      <td>0.0</td>\n      <td>0.0</td>\n      <td>0.0</td>\n      <td>0.0</td>\n      <td>0.0</td>\n    </tr>\n    <tr>\n      <th>1</th>\n      <td>0.971482</td>\n      <td>0.928969</td>\n      <td>0.572933</td>\n      <td>0.178457</td>\n      <td>0.122962</td>\n      <td>0.132360</td>\n      <td>0.094392</td>\n      <td>0.089575</td>\n      <td>0.030481</td>\n      <td>0.040499</td>\n      <td>...</td>\n      <td>0.0</td>\n      <td>0.0</td>\n      <td>0.0</td>\n      <td>0.0</td>\n      <td>0.0</td>\n      <td>0.0</td>\n      <td>0.0</td>\n      <td>0.0</td>\n      <td>0.0</td>\n      <td>0.0</td>\n    </tr>\n    <tr>\n      <th>2</th>\n      <td>1.000000</td>\n      <td>0.959149</td>\n      <td>0.701378</td>\n      <td>0.231778</td>\n      <td>0.000000</td>\n      <td>0.080698</td>\n      <td>0.128376</td>\n      <td>0.187448</td>\n      <td>0.280826</td>\n      <td>0.328261</td>\n      <td>...</td>\n      <td>0.0</td>\n      <td>0.0</td>\n      <td>0.0</td>\n      <td>0.0</td>\n      <td>0.0</td>\n      <td>0.0</td>\n      <td>0.0</td>\n      <td>0.0</td>\n      <td>0.0</td>\n      <td>2.0</td>\n    </tr>\n    <tr>\n      <th>3</th>\n      <td>0.975795</td>\n      <td>0.934088</td>\n      <td>0.659637</td>\n      <td>0.249921</td>\n      <td>0.237116</td>\n      <td>0.281445</td>\n      <td>0.249921</td>\n      <td>0.249921</td>\n      <td>0.241397</td>\n      <td>0.230670</td>\n      <td>...</td>\n      <td>0.0</td>\n      <td>0.0</td>\n      <td>0.0</td>\n      <td>0.0</td>\n      <td>0.0</td>\n      <td>0.0</td>\n      <td>0.0</td>\n      <td>0.0</td>\n      <td>0.0</td>\n      <td>0.0</td>\n    </tr>\n    <tr>\n      <th>4</th>\n      <td>0.000000</td>\n      <td>0.055816</td>\n      <td>0.261294</td>\n      <td>0.359847</td>\n      <td>0.433143</td>\n      <td>0.453698</td>\n      <td>0.499004</td>\n      <td>0.542796</td>\n      <td>0.616904</td>\n      <td>0.676696</td>\n      <td>...</td>\n      <td>0.0</td>\n      <td>0.0</td>\n      <td>0.0</td>\n      <td>0.0</td>\n      <td>0.0</td>\n      <td>0.0</td>\n      <td>0.0</td>\n      <td>0.0</td>\n      <td>0.0</td>\n      <td>2.0</td>\n    </tr>\n  </tbody>\n</table>\n<p>5 rows × 206 columns</p>\n</div>"
     },
     "metadata": {},
     "execution_count": 2
    }
   ],
   "source": [
    "train_data = pd.read_csv('data_0/train.csv')\n",
    "train_data.head()"
   ],
   "metadata": {
    "collapsed": false,
    "pycharm": {
     "name": "#%%\n"
    }
   }
  },
  {
   "cell_type": "code",
   "execution_count": 3,
   "outputs": [
    {
     "output_type": "execute_result",
     "data": {
      "text/plain": [
       "        s_0       s_1       s_2       s_3       s_4       s_5       s_6  \\\n",
       "0  0.991571  1.000000  0.631816  0.136230  0.041420  0.102707  0.120854   \n",
       "1  0.607553  0.541708  0.340694  0.000000  0.090708  0.164924  0.195034   \n",
       "2  0.975273  0.671097  0.686759  0.708482  0.718660  0.716763  0.720548   \n",
       "3  0.995635  0.917025  0.521096  0.000000  0.221770  0.404100  0.490399   \n",
       "4  1.000000  0.887949  0.745565  0.531720  0.380320  0.224631  0.091148   \n",
       "\n",
       "        s_7       s_8       s_9  ...    s_195     s_196     s_197     s_198  \\\n",
       "0  0.123428  0.107915  0.110512  ...  0.00000  0.000000  0.000000  0.000000   \n",
       "1  0.168838  0.198844  0.153579  ...  0.38996  0.386932  0.367251  0.363917   \n",
       "2  0.701656  0.596579  0.487027  ...  0.00000  0.000000  0.000000  0.000000   \n",
       "3  0.527158  0.518056  0.545192  ...  0.00000  0.000000  0.000000  0.000000   \n",
       "4  0.057639  0.003915  0.007820  ...  0.00000  0.000000  0.000000  0.000000   \n",
       "\n",
       "      s_199     s_200     s_201     s_202     s_203     s_204  \n",
       "0  0.000000  0.000000  0.000000  0.000000  0.000000  0.000000  \n",
       "1  0.360574  0.357245  0.350575  0.350575  0.350565  0.363874  \n",
       "2  0.000000  0.000000  0.000000  0.000000  0.000000  0.000000  \n",
       "3  0.000000  0.000000  0.000000  0.000000  0.000000  0.000000  \n",
       "4  0.000000  0.000000  0.000000  0.000000  0.000000  0.000000  \n",
       "\n",
       "[5 rows x 205 columns]"
      ],
      "text/html": "<div>\n<style scoped>\n    .dataframe tbody tr th:only-of-type {\n        vertical-align: middle;\n    }\n\n    .dataframe tbody tr th {\n        vertical-align: top;\n    }\n\n    .dataframe thead th {\n        text-align: right;\n    }\n</style>\n<table border=\"1\" class=\"dataframe\">\n  <thead>\n    <tr style=\"text-align: right;\">\n      <th></th>\n      <th>s_0</th>\n      <th>s_1</th>\n      <th>s_2</th>\n      <th>s_3</th>\n      <th>s_4</th>\n      <th>s_5</th>\n      <th>s_6</th>\n      <th>s_7</th>\n      <th>s_8</th>\n      <th>s_9</th>\n      <th>...</th>\n      <th>s_195</th>\n      <th>s_196</th>\n      <th>s_197</th>\n      <th>s_198</th>\n      <th>s_199</th>\n      <th>s_200</th>\n      <th>s_201</th>\n      <th>s_202</th>\n      <th>s_203</th>\n      <th>s_204</th>\n    </tr>\n  </thead>\n  <tbody>\n    <tr>\n      <th>0</th>\n      <td>0.991571</td>\n      <td>1.000000</td>\n      <td>0.631816</td>\n      <td>0.136230</td>\n      <td>0.041420</td>\n      <td>0.102707</td>\n      <td>0.120854</td>\n      <td>0.123428</td>\n      <td>0.107915</td>\n      <td>0.110512</td>\n      <td>...</td>\n      <td>0.00000</td>\n      <td>0.000000</td>\n      <td>0.000000</td>\n      <td>0.000000</td>\n      <td>0.000000</td>\n      <td>0.000000</td>\n      <td>0.000000</td>\n      <td>0.000000</td>\n      <td>0.000000</td>\n      <td>0.000000</td>\n    </tr>\n    <tr>\n      <th>1</th>\n      <td>0.607553</td>\n      <td>0.541708</td>\n      <td>0.340694</td>\n      <td>0.000000</td>\n      <td>0.090708</td>\n      <td>0.164924</td>\n      <td>0.195034</td>\n      <td>0.168838</td>\n      <td>0.198844</td>\n      <td>0.153579</td>\n      <td>...</td>\n      <td>0.38996</td>\n      <td>0.386932</td>\n      <td>0.367251</td>\n      <td>0.363917</td>\n      <td>0.360574</td>\n      <td>0.357245</td>\n      <td>0.350575</td>\n      <td>0.350575</td>\n      <td>0.350565</td>\n      <td>0.363874</td>\n    </tr>\n    <tr>\n      <th>2</th>\n      <td>0.975273</td>\n      <td>0.671097</td>\n      <td>0.686759</td>\n      <td>0.708482</td>\n      <td>0.718660</td>\n      <td>0.716763</td>\n      <td>0.720548</td>\n      <td>0.701656</td>\n      <td>0.596579</td>\n      <td>0.487027</td>\n      <td>...</td>\n      <td>0.00000</td>\n      <td>0.000000</td>\n      <td>0.000000</td>\n      <td>0.000000</td>\n      <td>0.000000</td>\n      <td>0.000000</td>\n      <td>0.000000</td>\n      <td>0.000000</td>\n      <td>0.000000</td>\n      <td>0.000000</td>\n    </tr>\n    <tr>\n      <th>3</th>\n      <td>0.995635</td>\n      <td>0.917025</td>\n      <td>0.521096</td>\n      <td>0.000000</td>\n      <td>0.221770</td>\n      <td>0.404100</td>\n      <td>0.490399</td>\n      <td>0.527158</td>\n      <td>0.518056</td>\n      <td>0.545192</td>\n      <td>...</td>\n      <td>0.00000</td>\n      <td>0.000000</td>\n      <td>0.000000</td>\n      <td>0.000000</td>\n      <td>0.000000</td>\n      <td>0.000000</td>\n      <td>0.000000</td>\n      <td>0.000000</td>\n      <td>0.000000</td>\n      <td>0.000000</td>\n    </tr>\n    <tr>\n      <th>4</th>\n      <td>1.000000</td>\n      <td>0.887949</td>\n      <td>0.745565</td>\n      <td>0.531720</td>\n      <td>0.380320</td>\n      <td>0.224631</td>\n      <td>0.091148</td>\n      <td>0.057639</td>\n      <td>0.003915</td>\n      <td>0.007820</td>\n      <td>...</td>\n      <td>0.00000</td>\n      <td>0.000000</td>\n      <td>0.000000</td>\n      <td>0.000000</td>\n      <td>0.000000</td>\n      <td>0.000000</td>\n      <td>0.000000</td>\n      <td>0.000000</td>\n      <td>0.000000</td>\n      <td>0.000000</td>\n    </tr>\n  </tbody>\n</table>\n<p>5 rows × 205 columns</p>\n</div>"
     },
     "metadata": {},
     "execution_count": 3
    }
   ],
   "source": [
    "test_data = pd.read_csv('data_0/test.csv')\n",
    "test_data.head()\n"
   ],
   "metadata": {
    "collapsed": false,
    "pycharm": {
     "name": "#%%\n"
    }
   }
  }
 ],
 "metadata": {
  "kernelspec": {
   "display_name": "Python 3",
   "language": "python",
   "name": "python3"
  },
  "language_info": {
   "codemirror_mode": {
    "name": "ipython",
    "version": 2
   },
   "file_extension": ".py",
   "mimetype": "text/x-python",
   "name": "python",
   "nbconvert_exporter": "python",
   "pygments_lexer": "ipython2",
   "version": "3.8.5-final"
  }
 },
 "nbformat": 4,
 "nbformat_minor": 0
}