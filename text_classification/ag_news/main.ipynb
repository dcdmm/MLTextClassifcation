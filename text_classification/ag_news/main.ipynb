{
 "cells": [
  {
   "cell_type": "code",
   "execution_count": 266,
   "metadata": {
    "collapsed": true
   },
   "outputs": [],
   "source": [
    "import torch\n",
    "from torchtext.vocab import build_vocab_from_iterator\n",
    "from torchtext.datasets import AG_NEWS\n",
    "from torchtext.data.utils import get_tokenizer\n",
    "from torch.utils.data import DataLoader\n",
    "from torch import nn\n",
    "import time\n",
    "import torchtext\n",
    "import pandas as pd\n",
    "from torch.utils.data.dataset import random_split"
   ]
  },
  {
   "cell_type": "code",
   "execution_count": 267,
   "outputs": [
    {
     "data": {
      "text/plain": "        class                                               text\n0           3  Wall St. Bears Claw Back Into the Black (Reute...\n1           3  Carlyle Looks Toward Commercial Aerospace (Reu...\n2           3  Oil and Economy Cloud Stocks' Outlook (Reuters...\n3           3  Iraq Halts Oil Exports from Main Southern Pipe...\n4           3  Oil prices soar to all-time record, posing new...\n...       ...                                                ...\n119995      1  Pakistan's Musharraf Says Won't Quit as Army C...\n119996      2  Renteria signing a top-shelf deal Red Sox gene...\n119997      2  Saban not going to Dolphins yet The Miami Dolp...\n119998      2  Today's NFL games PITTSBURGH at NY GIANTS Time...\n119999      2  Nets get Carter from Raptors INDIANAPOLIS -- A...\n\n[120000 rows x 2 columns]",
      "text/html": "<div>\n<style scoped>\n    .dataframe tbody tr th:only-of-type {\n        vertical-align: middle;\n    }\n\n    .dataframe tbody tr th {\n        vertical-align: top;\n    }\n\n    .dataframe thead th {\n        text-align: right;\n    }\n</style>\n<table border=\"1\" class=\"dataframe\">\n  <thead>\n    <tr style=\"text-align: right;\">\n      <th></th>\n      <th>class</th>\n      <th>text</th>\n    </tr>\n  </thead>\n  <tbody>\n    <tr>\n      <th>0</th>\n      <td>3</td>\n      <td>Wall St. Bears Claw Back Into the Black (Reute...</td>\n    </tr>\n    <tr>\n      <th>1</th>\n      <td>3</td>\n      <td>Carlyle Looks Toward Commercial Aerospace (Reu...</td>\n    </tr>\n    <tr>\n      <th>2</th>\n      <td>3</td>\n      <td>Oil and Economy Cloud Stocks' Outlook (Reuters...</td>\n    </tr>\n    <tr>\n      <th>3</th>\n      <td>3</td>\n      <td>Iraq Halts Oil Exports from Main Southern Pipe...</td>\n    </tr>\n    <tr>\n      <th>4</th>\n      <td>3</td>\n      <td>Oil prices soar to all-time record, posing new...</td>\n    </tr>\n    <tr>\n      <th>...</th>\n      <td>...</td>\n      <td>...</td>\n    </tr>\n    <tr>\n      <th>119995</th>\n      <td>1</td>\n      <td>Pakistan's Musharraf Says Won't Quit as Army C...</td>\n    </tr>\n    <tr>\n      <th>119996</th>\n      <td>2</td>\n      <td>Renteria signing a top-shelf deal Red Sox gene...</td>\n    </tr>\n    <tr>\n      <th>119997</th>\n      <td>2</td>\n      <td>Saban not going to Dolphins yet The Miami Dolp...</td>\n    </tr>\n    <tr>\n      <th>119998</th>\n      <td>2</td>\n      <td>Today's NFL games PITTSBURGH at NY GIANTS Time...</td>\n    </tr>\n    <tr>\n      <th>119999</th>\n      <td>2</td>\n      <td>Nets get Carter from Raptors INDIANAPOLIS -- A...</td>\n    </tr>\n  </tbody>\n</table>\n<p>120000 rows × 2 columns</p>\n</div>"
     },
     "execution_count": 267,
     "metadata": {},
     "output_type": "execute_result"
    }
   ],
   "source": [
    "train_iter = AG_NEWS(split='train')\n",
    "df = pd.DataFrame(list(train_iter), columns=['class', 'text'])\n",
    "df"
   ],
   "metadata": {
    "collapsed": false,
    "pycharm": {
     "name": "#%%\n"
    }
   }
  },
  {
   "cell_type": "code",
   "execution_count": 268,
   "outputs": [
    {
     "data": {
      "text/plain": "array([3, 4, 2, 1], dtype=int64)"
     },
     "execution_count": 268,
     "metadata": {},
     "output_type": "execute_result"
    }
   ],
   "source": [
    "df_class = df.iloc[:, 0]\n",
    "df_class.unique()  # 4分类"
   ],
   "metadata": {
    "collapsed": false,
    "pycharm": {
     "name": "#%%\n"
    }
   }
  },
  {
   "cell_type": "code",
   "execution_count": 269,
   "outputs": [],
   "source": [
    "train_iter = AG_NEWS(split='train')\n",
    "\n",
    "# – the name of tokenizer function. If None, it returns split() function, which splits the string sentence by space. If basic_english, it returns _basic_english_normalize() function, which normalize the string first and split by space.\n",
    "tokenizer = get_tokenizer(tokenizer='basic_english')\n",
    "\n",
    "\n",
    "def yield_tokens(data_iter):\n",
    "    for _, text in data_iter:\n",
    "        yield tokenizer(text)  # 分词\n",
    "\n",
    "\n",
    "vocab = build_vocab_from_iterator(yield_tokens(train_iter))  # Build a Vocab from an iterator.\n",
    "vocab.insert_token(\"<unk>\", 0)\n",
    "vocab.insert_token(\"<pad>\", 1)\n",
    "vocab.set_default_index(0)"
   ],
   "metadata": {
    "collapsed": false,
    "pycharm": {
     "name": "#%%\n"
    }
   }
  },
  {
   "cell_type": "code",
   "execution_count": 270,
   "outputs": [
    {
     "name": "stdout",
     "output_type": "stream",
     "text": [
      "torch.Size([400000, 50])\n",
      "tensor([[ 0.4180,  0.2497, -0.4124,  ..., -0.1841, -0.1151, -0.7858],\n",
      "        [ 0.0134,  0.2368, -0.1690,  ..., -0.5666,  0.0447,  0.3039],\n",
      "        [ 0.1516,  0.3018, -0.1676,  ..., -0.3565,  0.0164,  0.1022],\n",
      "        ...,\n",
      "        [-0.5118,  0.0587,  1.0913,  ..., -0.2500, -1.1250,  1.5863],\n",
      "        [-0.7590, -0.4743,  0.4737,  ...,  0.7895, -0.0141,  0.6448],\n",
      "        [ 0.0726, -0.5139,  0.4728,  ..., -0.1891, -0.5902,  0.5556]])\n"
     ]
    }
   ],
   "source": [
    "# 预训练词向量\n",
    "vec1 = torchtext.vocab.Vectors(name=\"glove.6B.50d.txt\",\n",
    "                               cache=r'C:\\Users\\duanm\\Music\\GitHubProjects\\MLNote\\E_PyTorch\\高阶操作及深度学习相关理论\\torchtext自然语言处理\\.vector_cache')\n",
    "\n",
    "print(vec1.vectors.shape)\n",
    "print(vec1.vectors)"
   ],
   "metadata": {
    "collapsed": false,
    "pycharm": {
     "name": "#%%\n"
    }
   }
  },
  {
   "cell_type": "code",
   "execution_count": 271,
   "outputs": [
    {
     "data": {
      "text/plain": "tensor([[ 0.0000,  0.0000,  0.0000,  ...,  0.0000,  0.0000,  0.0000],\n        [ 0.0000,  0.0000,  0.0000,  ...,  0.0000,  0.0000,  0.0000],\n        [ 0.1516,  0.3018, -0.1676,  ..., -0.3565,  0.0164,  0.1022],\n        ...,\n        [ 1.1296, -1.0693,  0.1338,  ...,  0.3478, -0.8490,  0.5595],\n        [-0.1712, -0.2531,  0.6790,  ...,  0.5299,  0.1299,  0.5768],\n        [ 0.0000,  0.0000,  0.0000,  ...,  0.0000,  0.0000,  0.0000]])"
     },
     "execution_count": 271,
     "metadata": {},
     "output_type": "execute_result"
    }
   ],
   "source": [
    "pre_trained = vec1.get_vecs_by_tokens(vocab.get_itos())\n",
    "pre_trained"
   ],
   "metadata": {
    "collapsed": false,
    "pycharm": {
     "name": "#%%\n"
    }
   }
  },
  {
   "cell_type": "code",
   "execution_count": 272,
   "outputs": [],
   "source": [
    "text_pipeline = lambda x: [vocab([i])[0] for i in tokenizer(x)]\n",
    "label_pipeline = lambda x: int(x) - 1  # 使分类标签从0开始"
   ],
   "metadata": {
    "collapsed": false,
    "pycharm": {
     "name": "#%%\n"
    }
   }
  },
  {
   "cell_type": "code",
   "execution_count": 273,
   "outputs": [
    {
     "data": {
      "text/plain": "[476, 22, 3, 31, 5298]"
     },
     "execution_count": 273,
     "metadata": {},
     "output_type": "execute_result"
    }
   ],
   "source": [
    "# he vocabulary block converts a list of tokens into integers.\n",
    "text_pipeline('here is the an example')"
   ],
   "metadata": {
    "collapsed": false,
    "pycharm": {
     "name": "#%%\n"
    }
   }
  },
  {
   "cell_type": "code",
   "execution_count": 274,
   "outputs": [
    {
     "data": {
      "text/plain": "device(type='cuda')"
     },
     "execution_count": 274,
     "metadata": {},
     "output_type": "execute_result"
    }
   ],
   "source": [
    "device = torch.device(\"cuda\" if torch.cuda.is_available() else \"cpu\")\n",
    "device"
   ],
   "metadata": {
    "collapsed": false,
    "pycharm": {
     "name": "#%%\n"
    }
   }
  },
  {
   "cell_type": "code",
   "execution_count": 275,
   "outputs": [],
   "source": [
    "def collate_batch(batch):\n",
    "    label_list = []  # 分类标签\n",
    "    text_list = []\n",
    "    offsets = [0]\n",
    "    for (_label, _text) in batch:\n",
    "        label_list.append(label_pipeline(_label))\n",
    "        processed_text = torch.tensor(text_pipeline(_text), dtype=torch.int64)\n",
    "        text_list.append(processed_text)\n",
    "        offsets.append(processed_text.size(0))\n",
    "    label_list = torch.tensor(label_list, dtype=torch.int64)\n",
    "    offsets = torch.tensor(offsets[:-1]).cumsum(dim=0)\n",
    "    text_list = torch.cat(text_list)\n",
    "    return label_list.to(device), text_list.to(device), offsets.to(device)\n",
    "\n",
    "\n",
    "train_iter = AG_NEWS(split='train')\n",
    "dataloader = DataLoader(train_iter, batch_size=8, shuffle=False, collate_fn=collate_batch)"
   ],
   "metadata": {
    "collapsed": false,
    "pycharm": {
     "name": "#%%\n"
    }
   }
  },
  {
   "cell_type": "code",
   "execution_count": 276,
   "outputs": [
    {
     "name": "stdout",
     "output_type": "stream",
     "text": [
      "tensor([2, 2, 2, 2, 2, 2, 2, 2], device='cuda:0')\n",
      "tensor([  432,   426,     2,  1606, 14839,   114,    67,     3,   849,    14,\n",
      "           28,    15,    28,    16, 50726,     4,   432,   375,    17,    10,\n",
      "        67508,     7, 52259,     4,    43,  4010,   784,   326,     2, 15875,\n",
      "         1073,   855,  1311,  4251,    14,    28,    15,    28,    16,   930,\n",
      "          798,   321, 15875,    99,     4, 27658,    29,     6,  4460,    12,\n",
      "          565, 52791,     9, 80618,  2126,     8,     3,   526,   242,     4,\n",
      "           29,  3891, 82815,  6575,    11,   207,   360,     7,     3,   127,\n",
      "            2,    59,     9,   348,  4583,   152,    17,   739,    14,    28,\n",
      "           15,    28,    16,  2385,   453,    93,  2060, 27361,     3,   348,\n",
      "            9,     3,   739,    12,   272,    43,   241, 51954,    39,     3,\n",
      "          295,   127,   113,    86,   221,     3,  7857,     7, 40067, 15381,\n",
      "            2,    71,  7377,    59,  1811,    30,   906,   538,  2847,    14,\n",
      "           28,    15,    28,    16,   839,    40,  4979,    59, 68872,    30,\n",
      "            3,   906,  2847,     8,   538,    71, 58875,   704,     6,   913,\n",
      "         2521,    94, 89172,     4,    31,    59,   294,    27,    11,   115,\n",
      "            2,    59,    93,  4380,     5,  3582,   146,     4,  7578,    24,\n",
      "        12283,     5,    37,   348,    14,   106,    15,   106,    16, 90057,\n",
      "           51,    59,    93,     4, 11313,  1733,     9, 13751,  9736,     4,\n",
      "         3594,     6,    24,   366, 12283,  3471,    95,   300,   168,     3,\n",
      "           37,   400,   546,     2,   152,   153,    44,     4,    46,   356,\n",
      "           72,  2281,    14,    28,    15,    28,    16,   152,   790,  1358,\n",
      "          281,    11, 70412,  4434,   356,  2281,    12,     3,    72,    20,\n",
      "           59,    93,  2302,   354,   469, 55935,   716,     4, 12934,     6,\n",
      "         1618,   739,    30,   180, 77321,    65,     2,    14,   847,     2,\n",
      "          372,    15,   757,  1208,   440,     8,   308,    86,    14,    32,\n",
      "           15,    32,    16,  1767,     7,     3,   408,    17,    10,   833,\n",
      "          757,   127,  2146,  1208,   440,    25,   469,   109,     2,   783,\n",
      "          140,     8,     3,   308,    86,     5,   469, 56749,     2,  8875,\n",
      "         6853,     4,     3,   798,    55,  3008,    27,    61,     2,  1356,\n",
      "         1237,   518, 13946,    39,  1417,    14,  2200,     2,   173,    15,\n",
      "         2200,     2,   173,    16,   833,   125,  5952,   114,     6,  2540,\n",
      "            8,  1233,     4,     9,    24,   572,    12,  2445,  1688,   440,\n",
      "           70,    86,     4,     3,   101,    27,    61,     4,  7127,     3,\n",
      "          348,    22,  2567,    30,     6, 26471,  3677,     2],\n",
      "       device='cuda:0')\n",
      "tensor([  0,  29,  71, 111, 151, 194, 242, 289], device='cuda:0')\n"
     ]
    }
   ],
   "source": [
    "for m, n, z in dataloader:  # collate_batch功能测试\n",
    "    print(m)\n",
    "    print(n)\n",
    "    print(z)\n",
    "    break"
   ],
   "metadata": {
    "collapsed": false,
    "pycharm": {
     "name": "#%%\n"
    }
   }
  },
  {
   "cell_type": "code",
   "execution_count": 277,
   "outputs": [],
   "source": [
    "def to_map_style_dataset(iter_data):\n",
    "    r\"\"\"Convert iterable-style dataset to map-style dataset.\n",
    "    \"\"\"\n",
    "\n",
    "    class _MapStyleDataset(torch.utils.data.Dataset):\n",
    "\n",
    "        def __init__(self, iter_data):\n",
    "            # TODO Avoid list issue #1296\n",
    "            self._data = list(iter_data)\n",
    "\n",
    "        def __len__(self):\n",
    "            return len(self._data)\n",
    "\n",
    "        def __getitem__(self, idx):\n",
    "            return self._data[idx]\n",
    "\n",
    "    return _MapStyleDataset(iter_data)"
   ],
   "metadata": {
    "collapsed": false,
    "pycharm": {
     "name": "#%%\n"
    }
   }
  },
  {
   "cell_type": "code",
   "execution_count": 278,
   "outputs": [],
   "source": [
    "BATCH_SIZE = 64  # batch size for training\n",
    "total_accu = None\n",
    "train_iter, test_iter = AG_NEWS()\n",
    "train_dataset = to_map_style_dataset(train_iter)\n",
    "test_dataset = to_map_style_dataset(test_iter)\n",
    "num_train = int(len(train_dataset) * 0.95)\n",
    "split_train_, split_valid_ = random_split(train_dataset, [num_train, len(train_dataset) - num_train])\n",
    "\n",
    "train_dataloader = DataLoader(split_train_, batch_size=BATCH_SIZE,\n",
    "                              shuffle=True, collate_fn=collate_batch)  # 训练数据集\n",
    "valid_dataloader = DataLoader(split_valid_, batch_size=BATCH_SIZE,\n",
    "                              shuffle=True, collate_fn=collate_batch)  # 验证数据集\n",
    "test_dataloader = DataLoader(test_dataset, batch_size=BATCH_SIZE,\n",
    "                             shuffle=True, collate_fn=collate_batch)  # 测试数据集"
   ],
   "metadata": {
    "collapsed": false,
    "pycharm": {
     "name": "#%%\n"
    }
   }
  },
  {
   "cell_type": "code",
   "execution_count": 279,
   "outputs": [],
   "source": [
    "class TextClassificationModel(nn.Module):\n",
    "    def __init__(self, pre_trained_embed, num_class):\n",
    "        super(TextClassificationModel, self).__init__()\n",
    "        self.embedding = nn.EmbeddingBag.from_pretrained(pre_trained_embed)\n",
    "        self.fc = nn.Linear(pre_trained_embed.shape[1], num_class)\n",
    "        self.init_weights()\n",
    "\n",
    "    def init_weights(self):\n",
    "        initrange = 0.5\n",
    "        self.fc.weight.data.uniform_(-initrange, initrange)\n",
    "        self.fc.bias.data.zero_()\n",
    "\n",
    "    def forward(self, text, offsets):\n",
    "        embedded = self.embedding(text, offsets)\n",
    "        return self.fc(embedded)"
   ],
   "metadata": {
    "collapsed": false,
    "pycharm": {
     "name": "#%%\n"
    }
   }
  },
  {
   "cell_type": "code",
   "execution_count": 280,
   "outputs": [],
   "source": [
    "train_iter = AG_NEWS(split='train')\n",
    "num_class = len(set([label for (label, text) in train_iter]))\n",
    "model = TextClassificationModel(pre_trained, num_class).to(device)"
   ],
   "metadata": {
    "collapsed": false,
    "pycharm": {
     "name": "#%%\n"
    }
   }
  },
  {
   "cell_type": "code",
   "execution_count": 281,
   "outputs": [],
   "source": [
    "# 冻结fc1层的参数\n",
    "for name, param in model.named_parameters():\n",
    "    if \"embedding\" in name:\n",
    "        param.requires_grad = False"
   ],
   "metadata": {
    "collapsed": false,
    "pycharm": {
     "name": "#%%\n"
    }
   }
  },
  {
   "cell_type": "code",
   "execution_count": 282,
   "outputs": [],
   "source": [
    "# Hyperparameters\n",
    "EPOCHS = 20  # epoch\n",
    "LR = 5  # learning rate\n",
    "\n",
    "criterion = torch.nn.CrossEntropyLoss()\n",
    "optimizer = torch.optim.SGD(filter(lambda p: p.requires_grad, model.parameters()), lr=LR)\n",
    "scheduler = torch.optim.lr_scheduler.StepLR(optimizer, 1.0, gamma=0.1)"
   ],
   "metadata": {
    "collapsed": false,
    "pycharm": {
     "name": "#%%\n"
    }
   }
  },
  {
   "cell_type": "code",
   "execution_count": 283,
   "outputs": [],
   "source": [
    "def train(dataloader):\n",
    "    model.train()\n",
    "    total_acc, total_count = 0, 0\n",
    "    log_interval = 500\n",
    "\n",
    "    for idx, (label, text, offsets) in enumerate(dataloader):\n",
    "        optimizer.zero_grad()\n",
    "        predicted_label = model(text, offsets)\n",
    "        loss = criterion(predicted_label, label)\n",
    "        loss.backward()\n",
    "        torch.nn.utils.clip_grad_norm_(model.parameters(), 0.1)\n",
    "        optimizer.step()\n",
    "        total_acc += (predicted_label.argmax(1) == label).sum().item()\n",
    "        total_count += label.size(0)\n",
    "        if idx % log_interval == 0 and idx > 0:\n",
    "            print('| epoch {:3d} | {:5d}/{:5d} batches '\n",
    "                  '| accuracy {:8.3f}'.format(epoch, idx, len(dataloader),\n",
    "                                              total_acc / total_count))\n",
    "            total_acc, total_count = 0, 0\n",
    "\n",
    "\n",
    "def evaluate(dataloader):\n",
    "    model.eval()\n",
    "    total_acc, total_count = 0, 0\n",
    "\n",
    "    with torch.no_grad():\n",
    "        for idx, (label, text, offsets) in enumerate(dataloader):\n",
    "            predicted_label = model(text, offsets)\n",
    "            total_acc += (predicted_label.argmax(1) == label).sum().item()\n",
    "            total_count += label.size(0)\n",
    "    return total_acc / total_count"
   ],
   "metadata": {
    "collapsed": false,
    "pycharm": {
     "name": "#%%\n"
    }
   }
  },
  {
   "cell_type": "code",
   "execution_count": 284,
   "outputs": [
    {
     "name": "stdout",
     "output_type": "stream",
     "text": [
      "| epoch   1 |   500/ 1782 batches | accuracy    0.824\n",
      "| epoch   1 |  1000/ 1782 batches | accuracy    0.856\n",
      "| epoch   1 |  1500/ 1782 batches | accuracy    0.863\n",
      "-----------------------------------------------------------\n",
      "| end of epoch   1 | time: 16.79s | valid accuracy    0.852 \n",
      "-----------------------------------------------------------\n",
      "| epoch   2 |   500/ 1782 batches | accuracy    0.862\n",
      "| epoch   2 |  1000/ 1782 batches | accuracy    0.861\n",
      "| epoch   2 |  1500/ 1782 batches | accuracy    0.859\n",
      "-----------------------------------------------------------\n",
      "| end of epoch   2 | time: 16.68s | valid accuracy    0.878 \n",
      "-----------------------------------------------------------\n",
      "| epoch   3 |   500/ 1782 batches | accuracy    0.863\n",
      "| epoch   3 |  1000/ 1782 batches | accuracy    0.861\n",
      "| epoch   3 |  1500/ 1782 batches | accuracy    0.862\n",
      "-----------------------------------------------------------\n",
      "| end of epoch   3 | time: 16.83s | valid accuracy    0.847 \n",
      "-----------------------------------------------------------\n",
      "| epoch   4 |   500/ 1782 batches | accuracy    0.878\n",
      "| epoch   4 |  1000/ 1782 batches | accuracy    0.877\n",
      "| epoch   4 |  1500/ 1782 batches | accuracy    0.878\n",
      "-----------------------------------------------------------\n",
      "| end of epoch   4 | time: 16.88s | valid accuracy    0.875 \n",
      "-----------------------------------------------------------\n",
      "| epoch   5 |   500/ 1782 batches | accuracy    0.878\n",
      "| epoch   5 |  1000/ 1782 batches | accuracy    0.879\n",
      "| epoch   5 |  1500/ 1782 batches | accuracy    0.877\n",
      "-----------------------------------------------------------\n",
      "| end of epoch   5 | time: 16.59s | valid accuracy    0.880 \n",
      "-----------------------------------------------------------\n",
      "| epoch   6 |   500/ 1782 batches | accuracy    0.879\n",
      "| epoch   6 |  1000/ 1782 batches | accuracy    0.882\n",
      "| epoch   6 |  1500/ 1782 batches | accuracy    0.875\n",
      "-----------------------------------------------------------\n",
      "| end of epoch   6 | time: 17.18s | valid accuracy    0.880 \n",
      "-----------------------------------------------------------\n",
      "| epoch   7 |   500/ 1782 batches | accuracy    0.878\n",
      "| epoch   7 |  1000/ 1782 batches | accuracy    0.877\n",
      "| epoch   7 |  1500/ 1782 batches | accuracy    0.881\n",
      "-----------------------------------------------------------\n",
      "| end of epoch   7 | time: 17.24s | valid accuracy    0.880 \n",
      "-----------------------------------------------------------\n",
      "| epoch   8 |   500/ 1782 batches | accuracy    0.879\n",
      "| epoch   8 |  1000/ 1782 batches | accuracy    0.878\n",
      "| epoch   8 |  1500/ 1782 batches | accuracy    0.881\n",
      "-----------------------------------------------------------\n",
      "| end of epoch   8 | time: 17.22s | valid accuracy    0.880 \n",
      "-----------------------------------------------------------\n",
      "| epoch   9 |   500/ 1782 batches | accuracy    0.879\n",
      "| epoch   9 |  1000/ 1782 batches | accuracy    0.878\n",
      "| epoch   9 |  1500/ 1782 batches | accuracy    0.878\n",
      "-----------------------------------------------------------\n",
      "| end of epoch   9 | time: 17.01s | valid accuracy    0.880 \n",
      "-----------------------------------------------------------\n",
      "| epoch  10 |   500/ 1782 batches | accuracy    0.881\n",
      "| epoch  10 |  1000/ 1782 batches | accuracy    0.877\n",
      "| epoch  10 |  1500/ 1782 batches | accuracy    0.881\n",
      "-----------------------------------------------------------\n",
      "| end of epoch  10 | time: 17.61s | valid accuracy    0.880 \n",
      "-----------------------------------------------------------\n",
      "| epoch  11 |   500/ 1782 batches | accuracy    0.878\n",
      "| epoch  11 |  1000/ 1782 batches | accuracy    0.880\n",
      "| epoch  11 |  1500/ 1782 batches | accuracy    0.876\n",
      "-----------------------------------------------------------\n",
      "| end of epoch  11 | time: 16.68s | valid accuracy    0.880 \n",
      "-----------------------------------------------------------\n",
      "| epoch  12 |   500/ 1782 batches | accuracy    0.881\n",
      "| epoch  12 |  1000/ 1782 batches | accuracy    0.879\n",
      "| epoch  12 |  1500/ 1782 batches | accuracy    0.878\n",
      "-----------------------------------------------------------\n",
      "| end of epoch  12 | time: 18.10s | valid accuracy    0.880 \n",
      "-----------------------------------------------------------\n",
      "| epoch  13 |   500/ 1782 batches | accuracy    0.878\n",
      "| epoch  13 |  1000/ 1782 batches | accuracy    0.881\n",
      "| epoch  13 |  1500/ 1782 batches | accuracy    0.876\n",
      "-----------------------------------------------------------\n",
      "| end of epoch  13 | time: 17.61s | valid accuracy    0.880 \n",
      "-----------------------------------------------------------\n",
      "| epoch  14 |   500/ 1782 batches | accuracy    0.880\n",
      "| epoch  14 |  1000/ 1782 batches | accuracy    0.881\n",
      "| epoch  14 |  1500/ 1782 batches | accuracy    0.877\n",
      "-----------------------------------------------------------\n",
      "| end of epoch  14 | time: 18.12s | valid accuracy    0.880 \n",
      "-----------------------------------------------------------\n",
      "| epoch  15 |   500/ 1782 batches | accuracy    0.879\n",
      "| epoch  15 |  1000/ 1782 batches | accuracy    0.879\n",
      "| epoch  15 |  1500/ 1782 batches | accuracy    0.877\n",
      "-----------------------------------------------------------\n",
      "| end of epoch  15 | time: 17.35s | valid accuracy    0.880 \n",
      "-----------------------------------------------------------\n",
      "| epoch  16 |   500/ 1782 batches | accuracy    0.876\n",
      "| epoch  16 |  1000/ 1782 batches | accuracy    0.882\n",
      "| epoch  16 |  1500/ 1782 batches | accuracy    0.880\n",
      "-----------------------------------------------------------\n",
      "| end of epoch  16 | time: 17.39s | valid accuracy    0.880 \n",
      "-----------------------------------------------------------\n",
      "| epoch  17 |   500/ 1782 batches | accuracy    0.877\n",
      "| epoch  17 |  1000/ 1782 batches | accuracy    0.881\n",
      "| epoch  17 |  1500/ 1782 batches | accuracy    0.877\n",
      "-----------------------------------------------------------\n",
      "| end of epoch  17 | time: 18.44s | valid accuracy    0.880 \n",
      "-----------------------------------------------------------\n",
      "| epoch  18 |   500/ 1782 batches | accuracy    0.877\n",
      "| epoch  18 |  1000/ 1782 batches | accuracy    0.882\n",
      "| epoch  18 |  1500/ 1782 batches | accuracy    0.877\n",
      "-----------------------------------------------------------\n",
      "| end of epoch  18 | time: 17.26s | valid accuracy    0.880 \n",
      "-----------------------------------------------------------\n",
      "| epoch  19 |   500/ 1782 batches | accuracy    0.881\n",
      "| epoch  19 |  1000/ 1782 batches | accuracy    0.877\n",
      "| epoch  19 |  1500/ 1782 batches | accuracy    0.878\n",
      "-----------------------------------------------------------\n",
      "| end of epoch  19 | time: 16.85s | valid accuracy    0.880 \n",
      "-----------------------------------------------------------\n",
      "| epoch  20 |   500/ 1782 batches | accuracy    0.880\n",
      "| epoch  20 |  1000/ 1782 batches | accuracy    0.880\n",
      "| epoch  20 |  1500/ 1782 batches | accuracy    0.878\n",
      "-----------------------------------------------------------\n",
      "| end of epoch  20 | time: 17.27s | valid accuracy    0.880 \n",
      "-----------------------------------------------------------\n"
     ]
    }
   ],
   "source": [
    "for epoch in range(1, EPOCHS + 1):\n",
    "    epoch_start_time = time.time()\n",
    "    train(train_dataloader)\n",
    "    accu_val = evaluate(valid_dataloader)\n",
    "    if total_accu is not None and total_accu > accu_val:\n",
    "        scheduler.step()\n",
    "    else:\n",
    "        total_accu = accu_val\n",
    "    print('-' * 59)\n",
    "    print('| end of epoch {:3d} | time: {:5.2f}s | '\n",
    "          'valid accuracy {:8.3f} '.format(epoch,\n",
    "                                           time.time() - epoch_start_time,\n",
    "                                           accu_val))\n",
    "    print('-' * 59)"
   ],
   "metadata": {
    "collapsed": false,
    "pycharm": {
     "name": "#%%\n"
    }
   }
  },
  {
   "cell_type": "code",
   "execution_count": 285,
   "outputs": [
    {
     "name": "stdout",
     "output_type": "stream",
     "text": [
      "Checking the results of test dataset.\n",
      "test accuracy    0.876\n"
     ]
    }
   ],
   "source": [
    "print('Checking the results of test dataset.')\n",
    "accu_test = evaluate(test_dataloader)\n",
    "print('test accuracy {:8.3f}'.format(accu_test))"
   ],
   "metadata": {
    "collapsed": false,
    "pycharm": {
     "name": "#%%\n"
    }
   }
  },
  {
   "cell_type": "code",
   "execution_count": 286,
   "outputs": [
    {
     "name": "stdout",
     "output_type": "stream",
     "text": [
      "This is a Sports news\n"
     ]
    }
   ],
   "source": [
    "ag_news_label = {1: \"World\",\n",
    "                 2: \"Sports\",\n",
    "                 3: \"Business\",\n",
    "                 4: \"Sci/Tec\"}\n",
    "\n",
    "\n",
    "def predict(text, text_pipeline):\n",
    "    with torch.no_grad():\n",
    "        text = torch.tensor(text_pipeline(text))\n",
    "        output = model(text, torch.tensor([0]))\n",
    "        return output.argmax(1).item() + 1\n",
    "\n",
    "\n",
    "ex_text_str = \"MEMPHIS, Tenn. – Four days ago, Jon Rahm was \\\n",
    "    enduring the season’s worst weather conditions on Sunday at The \\\n",
    "    Open on his way to a closing 75 at Royal Portrush, which \\\n",
    "    considering the wind and the rain was a respectable showing. \\\n",
    "    Thursday’s first round at the WGC-FedEx St. Jude Invitational \\\n",
    "    was another story. With temperatures in the mid-80s and hardly any \\\n",
    "    wind, the Spaniard was 13 strokes better in a flawless round. \\\n",
    "    Thanks to his best putting performance on the PGA Tour, Rahm \\\n",
    "    finished with an 8-under 62 for a three-stroke lead, which \\\n",
    "    was even more impressive considering he’d never played the \\\n",
    "    front nine at TPC Southwind.\"\n",
    "\n",
    "model = model.to(\"cpu\")\n",
    "\n",
    "print(\"This is a %s news\" % ag_news_label[predict(ex_text_str, text_pipeline)])"
   ],
   "metadata": {
    "collapsed": false,
    "pycharm": {
     "name": "#%%\n"
    }
   }
  },
  {
   "cell_type": "code",
   "execution_count": 286,
   "outputs": [],
   "source": [],
   "metadata": {
    "collapsed": false,
    "pycharm": {
     "name": "#%%\n"
    }
   }
  }
 ],
 "metadata": {
  "kernelspec": {
   "name": "conda-env-spacy_test-py",
   "language": "python",
   "display_name": "Python [conda env:spacy_test] *"
  },
  "language_info": {
   "codemirror_mode": {
    "name": "ipython",
    "version": 2
   },
   "file_extension": ".py",
   "mimetype": "text/x-python",
   "name": "python",
   "nbconvert_exporter": "python",
   "pygments_lexer": "ipython2",
   "version": "2.7.6"
  }
 },
 "nbformat": 4,
 "nbformat_minor": 0
}