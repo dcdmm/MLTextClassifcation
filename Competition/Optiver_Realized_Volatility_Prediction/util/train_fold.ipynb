{
 "cells": [
  {
   "cell_type": "code",
   "execution_count": 67,
   "metadata": {
    "collapsed": true
   },
   "outputs": [],
   "source": [
    "import numpy as np\n",
    "import pandas as pd\n",
    "from sklearn.model_selection import StratifiedKFold"
   ]
  },
  {
   "cell_type": "code",
   "execution_count": 68,
   "outputs": [
    {
     "data": {
      "text/plain": "        stock_id  time_id    target\n0              0        5  0.004136\n1              0       11  0.001445\n2              0       16  0.002168\n3              0       31  0.002195\n4              0       62  0.001747\n...          ...      ...       ...\n428927       126    32751  0.003461\n428928       126    32753  0.003113\n428929       126    32758  0.004070\n428930       126    32763  0.003357\n428931       126    32767  0.002090\n\n[428932 rows x 3 columns]",
      "text/html": "<div>\n<style scoped>\n    .dataframe tbody tr th:only-of-type {\n        vertical-align: middle;\n    }\n\n    .dataframe tbody tr th {\n        vertical-align: top;\n    }\n\n    .dataframe thead th {\n        text-align: right;\n    }\n</style>\n<table border=\"1\" class=\"dataframe\">\n  <thead>\n    <tr style=\"text-align: right;\">\n      <th></th>\n      <th>stock_id</th>\n      <th>time_id</th>\n      <th>target</th>\n    </tr>\n  </thead>\n  <tbody>\n    <tr>\n      <th>0</th>\n      <td>0</td>\n      <td>5</td>\n      <td>0.004136</td>\n    </tr>\n    <tr>\n      <th>1</th>\n      <td>0</td>\n      <td>11</td>\n      <td>0.001445</td>\n    </tr>\n    <tr>\n      <th>2</th>\n      <td>0</td>\n      <td>16</td>\n      <td>0.002168</td>\n    </tr>\n    <tr>\n      <th>3</th>\n      <td>0</td>\n      <td>31</td>\n      <td>0.002195</td>\n    </tr>\n    <tr>\n      <th>4</th>\n      <td>0</td>\n      <td>62</td>\n      <td>0.001747</td>\n    </tr>\n    <tr>\n      <th>...</th>\n      <td>...</td>\n      <td>...</td>\n      <td>...</td>\n    </tr>\n    <tr>\n      <th>428927</th>\n      <td>126</td>\n      <td>32751</td>\n      <td>0.003461</td>\n    </tr>\n    <tr>\n      <th>428928</th>\n      <td>126</td>\n      <td>32753</td>\n      <td>0.003113</td>\n    </tr>\n    <tr>\n      <th>428929</th>\n      <td>126</td>\n      <td>32758</td>\n      <td>0.004070</td>\n    </tr>\n    <tr>\n      <th>428930</th>\n      <td>126</td>\n      <td>32763</td>\n      <td>0.003357</td>\n    </tr>\n    <tr>\n      <th>428931</th>\n      <td>126</td>\n      <td>32767</td>\n      <td>0.002090</td>\n    </tr>\n  </tbody>\n</table>\n<p>428932 rows × 3 columns</p>\n</div>"
     },
     "execution_count": 68,
     "metadata": {},
     "output_type": "execute_result"
    }
   ],
   "source": [
    "data_dir = \"../data_init/train.csv\"\n",
    "\n",
    "train_data = pd.read_csv(data_dir)\n",
    "train_data"
   ],
   "metadata": {
    "collapsed": false,
    "pycharm": {
     "name": "#%%\n"
    }
   }
  },
  {
   "cell_type": "code",
   "execution_count": 69,
   "outputs": [
    {
     "data": {
      "text/plain": "        stock_id  time_id    target  kfold\n0              0        5  0.004136      1\n1              0       11  0.001445      1\n2              0       16  0.002168      4\n3              0       31  0.002195      1\n4              0       62  0.001747      4\n...          ...      ...       ...    ...\n428927       126    32751  0.003461      0\n428928       126    32753  0.003113      1\n428929       126    32758  0.004070      1\n428930       126    32763  0.003357      1\n428931       126    32767  0.002090      1\n\n[428932 rows x 4 columns]",
      "text/html": "<div>\n<style scoped>\n    .dataframe tbody tr th:only-of-type {\n        vertical-align: middle;\n    }\n\n    .dataframe tbody tr th {\n        vertical-align: top;\n    }\n\n    .dataframe thead th {\n        text-align: right;\n    }\n</style>\n<table border=\"1\" class=\"dataframe\">\n  <thead>\n    <tr style=\"text-align: right;\">\n      <th></th>\n      <th>stock_id</th>\n      <th>time_id</th>\n      <th>target</th>\n      <th>kfold</th>\n    </tr>\n  </thead>\n  <tbody>\n    <tr>\n      <th>0</th>\n      <td>0</td>\n      <td>5</td>\n      <td>0.004136</td>\n      <td>1</td>\n    </tr>\n    <tr>\n      <th>1</th>\n      <td>0</td>\n      <td>11</td>\n      <td>0.001445</td>\n      <td>1</td>\n    </tr>\n    <tr>\n      <th>2</th>\n      <td>0</td>\n      <td>16</td>\n      <td>0.002168</td>\n      <td>4</td>\n    </tr>\n    <tr>\n      <th>3</th>\n      <td>0</td>\n      <td>31</td>\n      <td>0.002195</td>\n      <td>1</td>\n    </tr>\n    <tr>\n      <th>4</th>\n      <td>0</td>\n      <td>62</td>\n      <td>0.001747</td>\n      <td>4</td>\n    </tr>\n    <tr>\n      <th>...</th>\n      <td>...</td>\n      <td>...</td>\n      <td>...</td>\n      <td>...</td>\n    </tr>\n    <tr>\n      <th>428927</th>\n      <td>126</td>\n      <td>32751</td>\n      <td>0.003461</td>\n      <td>0</td>\n    </tr>\n    <tr>\n      <th>428928</th>\n      <td>126</td>\n      <td>32753</td>\n      <td>0.003113</td>\n      <td>1</td>\n    </tr>\n    <tr>\n      <th>428929</th>\n      <td>126</td>\n      <td>32758</td>\n      <td>0.004070</td>\n      <td>1</td>\n    </tr>\n    <tr>\n      <th>428930</th>\n      <td>126</td>\n      <td>32763</td>\n      <td>0.003357</td>\n      <td>1</td>\n    </tr>\n    <tr>\n      <th>428931</th>\n      <td>126</td>\n      <td>32767</td>\n      <td>0.002090</td>\n      <td>1</td>\n    </tr>\n  </tbody>\n</table>\n<p>428932 rows × 4 columns</p>\n</div>"
     },
     "execution_count": 69,
     "metadata": {},
     "output_type": "execute_result"
    }
   ],
   "source": [
    "index = np.arange(train_data.shape[0])\n",
    "groups = train_data['time_id'].values\n",
    "\n",
    "fold_num = -1\n",
    "skf = StratifiedKFold(n_splits=5, random_state=0, shuffle=True)\n",
    "for (train, test) in skf.split(train_data[[\"stock_id\", \"target\"]], groups):\n",
    "    \"\"\"按time_id分组的Stratified Group 5-fold split\"\"\"\n",
    "    mask = np.isin(index, test)\n",
    "    index[mask] = fold_num\n",
    "    fold_num -= 1\n",
    "\n",
    "index = np.abs(index) - 1\n",
    "train_data['kfold'] = index"
   ],
   "metadata": {
    "collapsed": false,
    "pycharm": {
     "name": "#%%\n"
    }
   }
  },
  {
   "cell_type": "code",
   "execution_count": 70,
   "outputs": [],
   "source": [
    "train_data.to_pickle(\"../data_feature/train_fold.pkl\")\n"
   ],
   "metadata": {
    "collapsed": false,
    "pycharm": {
     "name": "#%%\n"
    }
   }
  }
 ],
 "metadata": {
  "kernelspec": {
   "display_name": "Python 3",
   "language": "python",
   "name": "python3"
  },
  "language_info": {
   "codemirror_mode": {
    "name": "ipython",
    "version": 2
   },
   "file_extension": ".py",
   "mimetype": "text/x-python",
   "name": "python",
   "nbconvert_exporter": "python",
   "pygments_lexer": "ipython2",
   "version": "2.7.6"
  }
 },
 "nbformat": 4,
 "nbformat_minor": 0
}