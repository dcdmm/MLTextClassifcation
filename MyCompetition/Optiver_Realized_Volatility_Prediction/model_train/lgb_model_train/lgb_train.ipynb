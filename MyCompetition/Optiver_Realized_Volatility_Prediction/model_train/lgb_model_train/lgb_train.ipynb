{
 "cells": [
  {
   "cell_type": "code",
   "execution_count": 3,
   "metadata": {
    "collapsed": true
   },
   "outputs": [],
   "source": [
    "import pandas as pd\n",
    "from model_func import *"
   ]
  },
  {
   "cell_type": "code",
   "execution_count": 4,
   "outputs": [],
   "source": [
    "# lgb训练数据集\n",
    "train_ck = pd.read_pickle('../../data_generation/train_ck.pkl')\n",
    "test_ck = pd.read_pickle('../../data_generation/test_ck.pkl')\n",
    "\n",
    "features = [col for col in train_ck.columns if col not in {\"target\", \"row_id\"}]\n",
    "X_train_lgb = train_ck[features]\n",
    "y_train_lgb = train_ck['target']\n",
    "X_test_lgb = test_ck[features]"
   ],
   "metadata": {
    "collapsed": false,
    "pycharm": {
     "name": "#%%\n"
    }
   }
  },
  {
   "cell_type": "code",
   "execution_count": 5,
   "outputs": [
    {
     "name": "stdout",
     "output_type": "stream",
     "text": [
      "Training fold 1\n",
      "Training until validation scores don't improve for 100 rounds\n",
      "[250]\ttraining's rmse: 0.000389131\ttraining's RMSPE: 0.179965\tvalid_1's rmse: 0.000418093\tvalid_1's RMSPE: 0.194055\n",
      "[500]\ttraining's rmse: 0.00037369\ttraining's RMSPE: 0.172824\tvalid_1's rmse: 0.000411835\tvalid_1's RMSPE: 0.19115\n",
      "[750]\ttraining's rmse: 0.000364597\ttraining's RMSPE: 0.168619\tvalid_1's rmse: 0.000409865\tvalid_1's RMSPE: 0.190236\n",
      "[1000]\ttraining's rmse: 0.00035758\ttraining's RMSPE: 0.165373\tvalid_1's rmse: 0.000409276\tvalid_1's RMSPE: 0.189963\n",
      "[1250]\ttraining's rmse: 0.000351586\ttraining's RMSPE: 0.162601\tvalid_1's rmse: 0.000408833\tvalid_1's RMSPE: 0.189757\n",
      "Early stopping, best iteration is:\n",
      "[1303]\ttraining's rmse: 0.000350321\ttraining's RMSPE: 0.162016\tvalid_1's rmse: 0.000408657\tvalid_1's RMSPE: 0.189675\n",
      "Training fold 2\n",
      "Training until validation scores don't improve for 100 rounds\n",
      "[250]\ttraining's rmse: 0.000387802\ttraining's RMSPE: 0.179664\tvalid_1's rmse: 0.000413528\tvalid_1's RMSPE: 0.190598\n",
      "[500]\ttraining's rmse: 0.000372293\ttraining's RMSPE: 0.172479\tvalid_1's rmse: 0.000406682\tvalid_1's RMSPE: 0.187443\n",
      "[750]\ttraining's rmse: 0.000363141\ttraining's RMSPE: 0.168239\tvalid_1's rmse: 0.000404727\tvalid_1's RMSPE: 0.186542\n",
      "[1000]\ttraining's rmse: 0.000355844\ttraining's RMSPE: 0.164858\tvalid_1's rmse: 0.000403831\tvalid_1's RMSPE: 0.186128\n",
      "[1250]\ttraining's rmse: 0.000349326\ttraining's RMSPE: 0.161839\tvalid_1's rmse: 0.000403136\tvalid_1's RMSPE: 0.185808\n",
      "[1500]\ttraining's rmse: 0.000343294\ttraining's RMSPE: 0.159044\tvalid_1's rmse: 0.000402657\tvalid_1's RMSPE: 0.185587\n",
      "Did not meet early stopping. Best iteration is:\n",
      "[1600]\ttraining's rmse: 0.000341146\ttraining's RMSPE: 0.158049\tvalid_1's rmse: 0.0004025\tvalid_1's RMSPE: 0.185515\n",
      "Training fold 3\n",
      "Training until validation scores don't improve for 100 rounds\n",
      "[250]\ttraining's rmse: 0.000387747\ttraining's RMSPE: 0.179319\tvalid_1's rmse: 0.000448199\tvalid_1's RMSPE: 0.208057\n",
      "[500]\ttraining's rmse: 0.00037214\ttraining's RMSPE: 0.172101\tvalid_1's rmse: 0.000439707\tvalid_1's RMSPE: 0.204115\n",
      "Early stopping, best iteration is:\n",
      "[532]\ttraining's rmse: 0.000370804\ttraining's RMSPE: 0.171483\tvalid_1's rmse: 0.000439172\tvalid_1's RMSPE: 0.203867\n",
      "Training fold 4\n",
      "Training until validation scores don't improve for 100 rounds\n",
      "[250]\ttraining's rmse: 0.000387996\ttraining's RMSPE: 0.179754\tvalid_1's rmse: 0.000421217\tvalid_1's RMSPE: 0.19414\n",
      "[500]\ttraining's rmse: 0.000373115\ttraining's RMSPE: 0.17286\tvalid_1's rmse: 0.000413916\tvalid_1's RMSPE: 0.190776\n",
      "[750]\ttraining's rmse: 0.000364104\ttraining's RMSPE: 0.168685\tvalid_1's rmse: 0.000412066\tvalid_1's RMSPE: 0.189923\n",
      "[1000]\ttraining's rmse: 0.000356806\ttraining's RMSPE: 0.165304\tvalid_1's rmse: 0.000410794\tvalid_1's RMSPE: 0.189336\n",
      "[1250]\ttraining's rmse: 0.000350571\ttraining's RMSPE: 0.162416\tvalid_1's rmse: 0.000410694\tvalid_1's RMSPE: 0.18929\n",
      "[1500]\ttraining's rmse: 0.000344446\ttraining's RMSPE: 0.159578\tvalid_1's rmse: 0.000410129\tvalid_1's RMSPE: 0.18903\n",
      "Did not meet early stopping. Best iteration is:\n",
      "[1600]\ttraining's rmse: 0.000342278\ttraining's RMSPE: 0.158574\tvalid_1's rmse: 0.000410128\tvalid_1's RMSPE: 0.189029\n",
      "Training fold 5\n",
      "Training until validation scores don't improve for 100 rounds\n",
      "[250]\ttraining's rmse: 0.000389564\ttraining's RMSPE: 0.18019\tvalid_1's rmse: 0.000416388\tvalid_1's RMSPE: 0.193158\n",
      "[500]\ttraining's rmse: 0.000373599\ttraining's RMSPE: 0.172806\tvalid_1's rmse: 0.000411077\tvalid_1's RMSPE: 0.190694\n",
      "[750]\ttraining's rmse: 0.000364361\ttraining's RMSPE: 0.168533\tvalid_1's rmse: 0.000409026\tvalid_1's RMSPE: 0.189742\n",
      "[1000]\ttraining's rmse: 0.000356942\ttraining's RMSPE: 0.165101\tvalid_1's rmse: 0.000408238\tvalid_1's RMSPE: 0.189377\n",
      "[1250]\ttraining's rmse: 0.000350575\ttraining's RMSPE: 0.162156\tvalid_1's rmse: 0.000407755\tvalid_1's RMSPE: 0.189153\n",
      "[1500]\ttraining's rmse: 0.00034481\ttraining's RMSPE: 0.159489\tvalid_1's rmse: 0.000407773\tvalid_1's RMSPE: 0.189161\n",
      "Early stopping, best iteration is:\n",
      "[1427]\ttraining's rmse: 0.00034648\ttraining's RMSPE: 0.160262\tvalid_1's rmse: 0.000407573\tvalid_1's RMSPE: 0.189068\n",
      "Our out of folds RMSPE is 0.19153753411484506\n"
     ]
    }
   ],
   "source": [
    "seed1 = 2021\n",
    "params1 = {\n",
    "    'objective': 'rmse',\n",
    "    'boosting_type': 'gbdt',\n",
    "    'max_depth': -1,\n",
    "    'max_bin': 100,\n",
    "    'min_data_in_leaf': 500,\n",
    "    'learning_rate': 0.05,\n",
    "    'subsample': 0.72,\n",
    "    'subsample_freq': 4,\n",
    "    'feature_fraction': 0.5,\n",
    "    'lambda_l1': 0.5,\n",
    "    'lambda_l2': 1.0,\n",
    "    'categorical_column': [0, 1],\n",
    "    'seed': seed1,\n",
    "    'feature_fraction_seed': seed1,\n",
    "    'bagging_seed': seed1,\n",
    "    'drop_seed': seed1,\n",
    "    'data_random_seed': seed1,\n",
    "    'n_jobs': -1,\n",
    "    'verbose': -1}\n",
    "\n",
    "oof1, pred1 = train_and_evaluate_lgb(X_train_lgb, y_train_lgb, X_test_lgb, params1, seed1,\n",
    "                                          num_boost_round=1600)  # 第一个lgb模型的训练"
   ],
   "metadata": {
    "collapsed": false,
    "pycharm": {
     "name": "#%%\n"
    }
   }
  },
  {
   "cell_type": "code",
   "execution_count": 6,
   "outputs": [
    {
     "name": "stdout",
     "output_type": "stream",
     "text": [
      "Training fold 1\n",
      "Training until validation scores don't improve for 100 rounds\n",
      "[250]\ttraining's rmse: 0.000429354\ttraining's RMSPE: 0.198497\tvalid_1's rmse: 0.000441913\tvalid_1's RMSPE: 0.2054\n",
      "[500]\ttraining's rmse: 0.000407501\ttraining's RMSPE: 0.188394\tvalid_1's rmse: 0.000429479\tvalid_1's RMSPE: 0.199621\n",
      "[750]\ttraining's rmse: 0.000393649\ttraining's RMSPE: 0.18199\tvalid_1's rmse: 0.000422141\tvalid_1's RMSPE: 0.19621\n",
      "[1000]\ttraining's rmse: 0.000383627\ttraining's RMSPE: 0.177357\tvalid_1's rmse: 0.000418578\tvalid_1's RMSPE: 0.194554\n",
      "[1250]\ttraining's rmse: 0.000375457\ttraining's RMSPE: 0.17358\tvalid_1's rmse: 0.000415564\tvalid_1's RMSPE: 0.193153\n",
      "Did not meet early stopping. Best iteration is:\n",
      "[1400]\ttraining's rmse: 0.000371338\ttraining's RMSPE: 0.171675\tvalid_1's rmse: 0.000414706\tvalid_1's RMSPE: 0.192754\n",
      "Training fold 2\n",
      "Training until validation scores don't improve for 100 rounds\n",
      "[250]\ttraining's rmse: 0.000428702\ttraining's RMSPE: 0.198537\tvalid_1's rmse: 0.000446677\tvalid_1's RMSPE: 0.206192\n",
      "[500]\ttraining's rmse: 0.00040641\ttraining's RMSPE: 0.188213\tvalid_1's rmse: 0.000432564\tvalid_1's RMSPE: 0.199677\n",
      "[750]\ttraining's rmse: 0.000393137\ttraining's RMSPE: 0.182066\tvalid_1's rmse: 0.000425631\tvalid_1's RMSPE: 0.196477\n",
      "[1000]\ttraining's rmse: 0.000382775\ttraining's RMSPE: 0.177268\tvalid_1's rmse: 0.000421324\tvalid_1's RMSPE: 0.194489\n",
      "[1250]\ttraining's rmse: 0.000374701\ttraining's RMSPE: 0.173529\tvalid_1's rmse: 0.000418835\tvalid_1's RMSPE: 0.19334\n",
      "Did not meet early stopping. Best iteration is:\n",
      "[1400]\ttraining's rmse: 0.000370637\ttraining's RMSPE: 0.171647\tvalid_1's rmse: 0.000418112\tvalid_1's RMSPE: 0.193006\n",
      "Training fold 3\n",
      "Training until validation scores don't improve for 100 rounds\n",
      "[250]\ttraining's rmse: 0.000429694\ttraining's RMSPE: 0.198885\tvalid_1's rmse: 0.000448594\tvalid_1's RMSPE: 0.207545\n",
      "[500]\ttraining's rmse: 0.000407718\ttraining's RMSPE: 0.188713\tvalid_1's rmse: 0.000435243\tvalid_1's RMSPE: 0.201368\n",
      "[750]\ttraining's rmse: 0.000393834\ttraining's RMSPE: 0.182287\tvalid_1's rmse: 0.000428179\tvalid_1's RMSPE: 0.198099\n",
      "[1000]\ttraining's rmse: 0.000383731\ttraining's RMSPE: 0.177611\tvalid_1's rmse: 0.000424358\tvalid_1's RMSPE: 0.196331\n",
      "[1250]\ttraining's rmse: 0.000375554\ttraining's RMSPE: 0.173826\tvalid_1's rmse: 0.000422197\tvalid_1's RMSPE: 0.195332\n",
      "Did not meet early stopping. Best iteration is:\n",
      "[1400]\ttraining's rmse: 0.000371377\ttraining's RMSPE: 0.171892\tvalid_1's rmse: 0.000421336\tvalid_1's RMSPE: 0.194933\n",
      "Training fold 4\n",
      "Training until validation scores don't improve for 100 rounds\n",
      "[250]\ttraining's rmse: 0.000429975\ttraining's RMSPE: 0.198905\tvalid_1's rmse: 0.000459715\tvalid_1's RMSPE: 0.213158\n",
      "[500]\ttraining's rmse: 0.000407534\ttraining's RMSPE: 0.188524\tvalid_1's rmse: 0.000442102\tvalid_1's RMSPE: 0.204991\n",
      "[750]\ttraining's rmse: 0.000393782\ttraining's RMSPE: 0.182162\tvalid_1's rmse: 0.000433912\tvalid_1's RMSPE: 0.201194\n",
      "[1000]\ttraining's rmse: 0.00038381\ttraining's RMSPE: 0.177549\tvalid_1's rmse: 0.000430129\tvalid_1's RMSPE: 0.19944\n",
      "[1250]\ttraining's rmse: 0.000375777\ttraining's RMSPE: 0.173833\tvalid_1's rmse: 0.000426647\tvalid_1's RMSPE: 0.197826\n",
      "Did not meet early stopping. Best iteration is:\n",
      "[1400]\ttraining's rmse: 0.000371542\ttraining's RMSPE: 0.171874\tvalid_1's rmse: 0.000424758\tvalid_1's RMSPE: 0.19695\n",
      "Training fold 5\n",
      "Training until validation scores don't improve for 100 rounds\n",
      "[250]\ttraining's rmse: 0.000428758\ttraining's RMSPE: 0.198595\tvalid_1's rmse: 0.000441848\tvalid_1's RMSPE: 0.20383\n",
      "[500]\ttraining's rmse: 0.000407288\ttraining's RMSPE: 0.18865\tvalid_1's rmse: 0.000427529\tvalid_1's RMSPE: 0.197225\n",
      "[750]\ttraining's rmse: 0.000393401\ttraining's RMSPE: 0.182218\tvalid_1's rmse: 0.000419579\tvalid_1's RMSPE: 0.193557\n",
      "[1000]\ttraining's rmse: 0.000383334\ttraining's RMSPE: 0.177555\tvalid_1's rmse: 0.000414752\tvalid_1's RMSPE: 0.191331\n",
      "[1250]\ttraining's rmse: 0.000375001\ttraining's RMSPE: 0.173695\tvalid_1's rmse: 0.000411048\tvalid_1's RMSPE: 0.189622\n",
      "Did not meet early stopping. Best iteration is:\n",
      "[1400]\ttraining's rmse: 0.000370872\ttraining's RMSPE: 0.171783\tvalid_1's rmse: 0.00040958\tvalid_1's RMSPE: 0.188945\n",
      "Our out of folds RMSPE is 0.19333586890010526\n"
     ]
    }
   ],
   "source": [
    "seed2 = 144  # 不同的随机数种子\n",
    "params2 = {\n",
    "    'objective': 'rmse',\n",
    "    'boosting_type': 'gbdt',\n",
    "    'max_depth': -1,\n",
    "    'max_bin':100,\n",
    "    'min_data_in_leaf':500,\n",
    "    'learning_rate': 0.05,\n",
    "    'subsample': 0.72,\n",
    "    'subsample_freq': 4,\n",
    "    'feature_fraction': 0.5,\n",
    "    'lambda_l1': 0.5,\n",
    "    'lambda_l2': 1.0,\n",
    "    'categorical_column':[0],  # 这里将\"time_id\"不设置为分类特征\n",
    "    'seed':seed2,\n",
    "    'feature_fraction_seed': seed2,\n",
    "    'bagging_seed': seed2,\n",
    "    'drop_seed': seed2,\n",
    "    'data_random_seed': seed2,\n",
    "    'n_jobs':-1,\n",
    "    'verbose': -1}\n",
    "\n",
    "oof2, pred2 = train_and_evaluate_lgb(X_train_lgb, y_train_lgb, X_test_lgb, params2, seed2, 1400)"
   ],
   "metadata": {
    "collapsed": false,
    "pycharm": {
     "name": "#%%\n"
    }
   }
  },
  {
   "cell_type": "code",
   "execution_count": 9,
   "outputs": [],
   "source": [
    "# 保存训练数据集的预测结果\n",
    "np.savez(\"oof.npz\", oof1=oof1, oof2=oof2)"
   ],
   "metadata": {
    "collapsed": false,
    "pycharm": {
     "name": "#%%\n"
    }
   }
  },
  {
   "cell_type": "code",
   "execution_count": 10,
   "outputs": [],
   "source": [
    "# 保存测试数据集的预测结果\n",
    "np.savez(\"pred.npz\", pred1=pred1, pred2=pred2)"
   ],
   "metadata": {
    "collapsed": false,
    "pycharm": {
     "name": "#%%\n"
    }
   }
  },
  {
   "cell_type": "code",
   "execution_count": null,
   "outputs": [],
   "source": [],
   "metadata": {
    "collapsed": false,
    "pycharm": {
     "name": "#%%\n"
    }
   }
  }
 ],
 "metadata": {
  "kernelspec": {
   "display_name": "Python 3",
   "language": "python",
   "name": "python3"
  },
  "language_info": {
   "codemirror_mode": {
    "name": "ipython",
    "version": 2
   },
   "file_extension": ".py",
   "mimetype": "text/x-python",
   "name": "python",
   "nbconvert_exporter": "python",
   "pygments_lexer": "ipython2",
   "version": "2.7.6"
  }
 },
 "nbformat": 4,
 "nbformat_minor": 0
}